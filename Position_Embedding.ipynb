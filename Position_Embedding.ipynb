{
  "cells": [
    {
      "cell_type": "code",
      "execution_count": 1,
      "metadata": {
        "id": "PLQw0q5bXltN"
      },
      "outputs": [],
      "source": [
        "import torch"
      ]
    },
    {
      "cell_type": "code",
      "execution_count": null,
      "metadata": {
        "id": "TWJ8OAGHbYYO"
      },
      "outputs": [],
      "source": [
        "vocab_size = 10000\n",
        "context_size = 4\n",
        "d_model = 6"
      ]
    },
    {
      "cell_type": "code",
      "execution_count": null,
      "metadata": {
        "id": "RfkifUVOX6-D"
      },
      "outputs": [],
      "source": [
        "x = torch.LongTensor([[5542,1059, 572, 2]])"
      ]
    },
    {
      "cell_type": "code",
      "execution_count": null,
      "metadata": {
        "id": "VZDfAgAmeYJf"
      },
      "outputs": [],
      "source": [
        "position_embedding = torch.nn.Embedding(context_size, d_model)"
      ]
    },
    {
      "cell_type": "code",
      "execution_count": null,
      "metadata": {
        "colab": {
          "base_uri": "https://localhost:8080/"
        },
        "id": "BMPqcXK3ZXBK",
        "outputId": "4ae4e76f-313e-4d2f-9e67-d0a14fb5056e"
      },
      "outputs": [
        {
          "data": {
            "text/plain": [
              "Parameter containing:\n",
              "tensor([[-0.2301, -1.7449, -0.3942,  1.1723, -0.2334, -2.0655],\n",
              "        [ 0.2032, -0.8247,  0.2162,  0.3168, -0.5551, -0.6897],\n",
              "        [-0.3452, -0.9355, -0.4812, -0.6397, -1.4076, -1.2537],\n",
              "        [-1.5638, -1.3332,  0.4336, -0.1946, -1.3150,  0.5463]],\n",
              "       requires_grad=True)"
            ]
          },
          "execution_count": 5,
          "metadata": {},
          "output_type": "execute_result"
        }
      ],
      "source": [
        "position_embedding.weight"
      ]
    },
    {
      "cell_type": "code",
      "execution_count": null,
      "metadata": {
        "colab": {
          "base_uri": "https://localhost:8080/"
        },
        "id": "3L9kUWpa1r95",
        "outputId": "f4f45017-9bbb-4a15-978c-ce10421230c7"
      },
      "outputs": [
        {
          "data": {
            "text/plain": [
              "tensor([[-0.2301, -1.7449, -0.3942,  1.1723, -0.2334, -2.0655]],\n",
              "       grad_fn=<EmbeddingBackward0>)"
            ]
          },
          "execution_count": 6,
          "metadata": {},
          "output_type": "execute_result"
        }
      ],
      "source": [
        "position_embedding(torch.LongTensor([0]))"
      ]
    },
    {
      "cell_type": "code",
      "execution_count": null,
      "metadata": {
        "colab": {
          "base_uri": "https://localhost:8080/"
        },
        "id": "e0VMJkyepAVz",
        "outputId": "6ece76a2-e67b-4faf-ebf1-692488b44076"
      },
      "outputs": [
        {
          "data": {
            "text/plain": [
              "tensor([[0, 1, 2, 3]])"
            ]
          },
          "execution_count": 7,
          "metadata": {},
          "output_type": "execute_result"
        }
      ],
      "source": [
        "positions = torch.arange(0, context_size).unsqueeze(0) ## 次元を追加\n",
        "positions"
      ]
    },
    {
      "cell_type": "code",
      "execution_count": null,
      "metadata": {
        "colab": {
          "base_uri": "https://localhost:8080/"
        },
        "id": "HnqN_9lWiyQL",
        "outputId": "235e2b71-a98d-4801-d4f3-ef3f6ac29451"
      },
      "outputs": [
        {
          "data": {
            "text/plain": [
              "tensor([[[-0.2301, -1.7449, -0.3942,  1.1723, -0.2334, -2.0655],\n",
              "         [ 0.2032, -0.8247,  0.2162,  0.3168, -0.5551, -0.6897],\n",
              "         [-0.3452, -0.9355, -0.4812, -0.6397, -1.4076, -1.2537],\n",
              "         [-1.5638, -1.3332,  0.4336, -0.1946, -1.3150,  0.5463]]],\n",
              "       grad_fn=<EmbeddingBackward0>)"
            ]
          },
          "execution_count": 8,
          "metadata": {},
          "output_type": "execute_result"
        }
      ],
      "source": [
        "wpe = position_embedding(positions)\n",
        "wpe"
      ]
    },
    {
      "cell_type": "markdown",
      "metadata": {
        "id": "uaMVyrXYayiI"
      },
      "source": [
        "Embedding"
      ]
    },
    {
      "cell_type": "code",
      "execution_count": 9,
      "metadata": {
        "colab": {
          "base_uri": "https://localhost:8080/"
        },
        "id": "qSfEeyDSaZuY",
        "outputId": "8b826fd7-4dd3-4b24-c5f9-28db8400586f"
      },
      "outputs": [
        {
          "data": {
            "text/plain": [
              "Embedding(10000, 6)"
            ]
          },
          "execution_count": 9,
          "metadata": {},
          "output_type": "execute_result"
        }
      ],
      "source": [
        "# 埋め込みクラスのインスタンス化\n",
        "token_embedding = torch.nn.Embedding(vocab_size, d_model)\n",
        "token_embedding"
      ]
    },
    {
      "cell_type": "code",
      "execution_count": null,
      "metadata": {
        "colab": {
          "base_uri": "https://localhost:8080/"
        },
        "id": "jWYSjle03ee3",
        "outputId": "997ecac3-ebbf-4087-d8fb-f37e3d692166"
      },
      "outputs": [
        {
          "data": {
            "text/plain": [
              "tensor([[-0.5752, -0.5879,  0.2495, -0.8090,  1.1016, -0.1906],\n",
              "        [ 0.4832,  0.4634, -1.3298,  0.8124, -0.9380, -0.4664],\n",
              "        [-1.0674,  1.2012, -0.0125,  0.9528, -0.1569,  0.0928],\n",
              "        [-0.0669,  0.8295,  1.0396,  0.9255,  0.6403,  1.3654],\n",
              "        [ 0.1333,  1.2574,  0.8724,  0.2044, -0.2794, -0.0812]],\n",
              "       grad_fn=<SliceBackward0>)"
            ]
          },
          "execution_count": 10,
          "metadata": {},
          "output_type": "execute_result"
        }
      ],
      "source": [
        "token_embedding.weight[:5]"
      ]
    },
    {
      "cell_type": "code",
      "execution_count": 14,
      "metadata": {
        "id": "DIUvL7VcZQaq"
      },
      "outputs": [],
      "source": [
        "wte = token_embedding(x)"
      ]
    },
    {
      "cell_type": "code",
      "execution_count": null,
      "metadata": {
        "colab": {
          "base_uri": "https://localhost:8080/"
        },
        "id": "EYNX8V7b4iSV",
        "outputId": "5073bea8-6905-440b-fc52-e7e7d7e4c196"
      },
      "outputs": [
        {
          "data": {
            "text/plain": [
              "tensor([[[ 0.2450, -1.3478, -0.4895,  1.8310,  1.6156, -1.0105],\n",
              "         [-0.1610,  0.1379,  0.0881, -0.9296, -1.7536,  0.9104],\n",
              "         [ 1.1725,  0.0917,  0.5572, -1.1736, -0.6674, -1.6429],\n",
              "         [-2.6312, -0.1320,  0.4211,  0.7582, -1.4719,  0.6391]]],\n",
              "       grad_fn=<AddBackward0>)"
            ]
          },
          "execution_count": 16,
          "metadata": {},
          "output_type": "execute_result"
        }
      ],
      "source": [
        "wte + wpe"
      ]
    }
  ],
  "metadata": {
    "colab": {
      "provenance": []
    },
    "kernelspec": {
      "display_name": "Python 3",
      "name": "python3"
    },
    "language_info": {
      "name": "python"
    }
  },
  "nbformat": 4,
  "nbformat_minor": 0
}
